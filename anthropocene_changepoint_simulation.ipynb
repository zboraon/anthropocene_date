{
  "cells": [
    {
      "cell_type": "markdown",
      "metadata": {
        "id": "view-in-github",
        "colab_type": "text"
      },
      "source": [
        "<a href=\"https://colab.research.google.com/github/zboraon/anthropocene_date/blob/main/anthropocene_changepoint_simulation.ipynb\" target=\"_parent\"><img src=\"https://colab.research.google.com/assets/colab-badge.svg\" alt=\"Open In Colab\"/></a>"
      ]
    },
    {
      "cell_type": "markdown",
      "metadata": {
        "id": "6Azk8mMXJkJK"
      },
      "source": [
        "# Necessary libraries\n",
        "\n",
        "\n",
        "\n",
        "Install and load the necessary libraries.\n"
      ]
    },
    {
      "cell_type": "code",
      "execution_count": 1,
      "metadata": {
        "id": "N1_6nWtGLsgx"
      },
      "outputs": [],
      "source": [
        "system(\"apt install -y jags\")\n",
        "system(\"apt install -y r-base\")"
      ]
    },
    {
      "cell_type": "code",
      "execution_count": null,
      "metadata": {
        "id": "WIFkPTdZIqzr"
      },
      "outputs": [],
      "source": [
        "list.of.packages <- c(\"runjags\", \"mcp\", \"truncnorm\", \"coda\", \"dplyr\", \"ggplot2\", \"HDInterval\")\n",
        "new.packages <- list.of.packages[!(list.of.packages %in% installed.packages()[,\"Package\"])]\n",
        "if(length(new.packages)) install.packages(new.packages, dependencies = TRUE)"
      ]
    },
    {
      "cell_type": "code",
      "execution_count": 3,
      "metadata": {
        "id": "H6rMWAArJU_Y"
      },
      "outputs": [],
      "source": [
        "rm(list = ls())\n"
      ]
    },
    {
      "cell_type": "code",
      "execution_count": null,
      "metadata": {
        "id": "wp3G0AjbPu6G"
      },
      "outputs": [],
      "source": [
        "library(\"mcp\")\n",
        "library(\"runjags\")\n",
        "library(\"dplyr\")\n",
        "library(\"HDInterval\")  # For HDI calculation\n",
        "library(\"coda\")\n",
        "\n",
        "set.seed(1952)\n"
      ]
    },
    {
      "cell_type": "markdown",
      "metadata": {
        "id": "i94He24g7xDu"
      },
      "source": [
        "# Loading and tidying the data"
      ]
    },
    {
      "cell_type": "code",
      "execution_count": 5,
      "metadata": {
        "id": "u4VnAbi8UEPp"
      },
      "outputs": [],
      "source": [
        "model = list(\n",
        "  y ~ 1,\n",
        "  1 ~ 0 + x\n",
        ")\n",
        "\n",
        "empty = mcp(model, sample = FALSE)\n",
        "\n",
        "df_sim = data.frame(\n",
        "  x = runif(20, 1930, 1970),\n",
        "  ageerror = abs(rnorm(20, mean = 0, sd = 1))\n",
        ")\n",
        "\n",
        "df_sim$y = empty$simulate(df_sim$x,\n",
        "                      # Population-level:\n",
        "                      int_1 =  0, x_2 = 0.25, cp_1 = 1952, sigma = 0.25)\n",
        "\n",
        "y_values <- df_sim$y\n",
        "df_sim$proxyerror = abs(rnorm(20, mean = 0, sd = 0.1))\n",
        "yerror_values <- df_sim$proxyerror\n",
        "\n",
        "\n",
        "fit_sim_to_plot <- data.frame(\n",
        "  df_sim[, c(\"x\", \"ageerror\")],\n",
        "  y = y_values,\n",
        "  y_err = yerror_values,\n",
        "  id = rep(1,20)\n",
        ")\n",
        "colnames(fit_sim_to_plot) <- c(\"x\", \"x_err\", \"y\", \"y_err\", \"id\")\n",
        "fit_sim_to_plotsubset <- subset(fit_sim_to_plot, select = c(\"x\", \"x_err\", \"y\", \"y_err\", \"id\"))\n",
        "\n",
        "\n",
        "simulated_datatouse_selected_for_jags <- fit_sim_to_plotsubset %>%\n",
        "  select(x, y, y_err, x_err, id) %>%\n",
        "  rename(age = x, y = y, proxyerror = y_err, ageerror = x_err, id = id)\n",
        "\n",
        "dataList_forjags <- as.list(simulated_datatouse_selected_for_jags)\n",
        "dataList_forjags$minx <- min(simulated_datatouse_selected_for_jags$age)\n",
        "dataList_forjags$maxx <- max(simulated_datatouse_selected_for_jags$age)\n",
        "\n",
        "sampleNO <- 10000\n",
        "thinstepsNO <- 2\n",
        "adaptNO <- 5000\n",
        "burninNO <- 5000\n",
        "nChains <- 3"
      ]
    },
    {
      "cell_type": "markdown",
      "source": [
        "# The jags model"
      ],
      "metadata": {
        "id": "vDT79yfBzdKD"
      }
    },
    {
      "cell_type": "code",
      "source": [
        "\n",
        "modelString <- \"\n",
        "data {\n",
        "  for (tr_ in 1:length(age)) {\n",
        "  age_tr[tr_] <- age[tr_] / 1000\n",
        "  ageerror_tr[tr_] <- ageerror[tr_] / 1000\n",
        "  }\n",
        "  MINX <- minx / 1000\n",
        "  MAXX <- maxx / 1000\n",
        "}\n",
        "model {\n",
        "\n",
        "  # Priors for population-level effects\n",
        "  cp_0 = MINX  # mcp helper value.\n",
        "  cp_2 = MAXX  # mcp helper value.\n",
        "\n",
        "  cp_1_tr ~ dt(mu_cp_1, 1/sigma_cp_1^2, nu_cp)T(MINX, MAXX)\n",
        "  sigma_cp_1 ~ dt(0, 0.05^(-2), 1)T(0, )\n",
        "  int_1 ~ dt(0, 5^(-2), 3)\n",
        "  x_2_tr ~ dt(0, 100^(-2), 3)\n",
        "  sigma_1 ~  dt(0, 5^(-2), 1)T(0, )\n",
        "  mu_cp_1 ~ dunif(MINX,MAXX)\n",
        "  nu_cp ~ dexp(1/30)\n",
        "\n",
        "  # Model and likelihood\n",
        "  for (i_ in 1:length(age_tr)) {\n",
        "    X_1_[i_] = min(trueage[i_], cp_1_tr)\n",
        "    X_2_[i_] = min(trueage[i_], cp_2) - cp_1_tr\n",
        "    trueage[i_] ~ dunif(MINX,MAXX) #dnorm(0, 1^(-2))\n",
        "    age_tr[i_] ~  dnorm(trueage[i_], 1 / ageerror_tr[i_]^2)\n",
        "\n",
        "    # Fitted value\n",
        "    y_[i_] =\n",
        "\n",
        "      # Segment 1: y ~ 1\n",
        "      (trueage[i_] >= cp_0) * int_1 +\n",
        "\n",
        "      # Segment 2: y ~ 1 ~ 0 + x\n",
        "      (trueage[i_] >= cp_1_tr) * x_2_tr * X_2_[i_]\n",
        "\n",
        "    # Fitted standard deviation\n",
        "    tau_y_[i_] = (proxyerror[i_]^2 + (sigma_1)^2)^(-1)\n",
        "\n",
        "    # Likelihood and log-density for family = gaussian()\n",
        "    y[i_] ~ dnorm((y_[i_]), tau_y_[i_])\n",
        "  }\n",
        "  # Transform to original scale:\n",
        "  cp_1 <- cp_1_tr * 1000\n",
        "  # cp_1_sd <- cp_1_sigma_tr * 1000\n",
        "  x_2 <- x_2_tr / 1000\n",
        "}\n",
        "\"\n",
        "\n",
        "writeLines(modelString, con=\"TEMPmodel.txt\")\n",
        "parameters <- c(\"cp_1\", \"int_1\", \"sigma_1\", \"x_2\")\n",
        "\n",
        "\n",
        "# run the model\n",
        "runJagsOut_sim <- run.jags(method = \"parallel\",\n",
        "                          model = \"TEMPmodel.txt\",\n",
        "                          monitor = parameters,\n",
        "                          data = dataList_forjags,\n",
        "                          #inits = initsList,\n",
        "                          n.chains = nChains,\n",
        "                          adapt = adaptNO,\n",
        "                          burnin = burninNO,\n",
        "                          sample = sampleNO,\n",
        "                          thin = thinstepsNO,\n",
        "                          summarise = FALSE,\n",
        "                          plots = FALSE,\n",
        "                          modules = 'glm')"
      ],
      "metadata": {
        "id": "MonTOot4zl5x"
      },
      "execution_count": null,
      "outputs": []
    },
    {
      "cell_type": "code",
      "source": [
        "      codaSamples <- as.mcmc.list(runJagsOut_sim)\n",
        "      save(runJagsOut_sim, file=\"anthropocene_cp_sim_MCMC.Rdata\" )\n",
        "      summary2023colabrun_sim <- summary(runJagsOut_sim)\n",
        "      write.csv(summary2023colabrun_sim, \"/content/summary_sim_runs_sim.csv\")"
      ],
      "metadata": {
        "id": "QBQhuJcHz6NS"
      },
      "execution_count": null,
      "outputs": []
    }
  ],
  "metadata": {
    "colab": {
      "provenance": [],
      "authorship_tag": "ABX9TyNBQ7zp4B+1aMQn5gD+E7uB",
      "include_colab_link": true
    },
    "kernelspec": {
      "display_name": "R",
      "name": "ir"
    }
  },
  "nbformat": 4,
  "nbformat_minor": 0
}
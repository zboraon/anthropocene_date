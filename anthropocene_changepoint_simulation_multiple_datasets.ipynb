{
  "cells": [
    {
      "cell_type": "markdown",
      "metadata": {
        "id": "view-in-github",
        "colab_type": "text"
      },
      "source": [
        "<a href=\"https://colab.research.google.com/github/zboraon/anthropocene_date/blob/main/anthropocene_changepoint_simulation_multiple_datasets.ipynb\" target=\"_parent\"><img src=\"https://colab.research.google.com/assets/colab-badge.svg\" alt=\"Open In Colab\"/></a>"
      ]
    },
    {
      "cell_type": "markdown",
      "metadata": {
        "id": "6Azk8mMXJkJK"
      },
      "source": [
        "# Necessary libraries\n",
        "\n",
        "\n",
        "\n",
        "Install and load the necessary libraries.\n"
      ]
    },
    {
      "cell_type": "code",
      "execution_count": null,
      "metadata": {
        "id": "N1_6nWtGLsgx"
      },
      "outputs": [],
      "source": [
        "system(\"apt install -y jags\")\n",
        "system(\"apt install -y r-base\")"
      ]
    },
    {
      "cell_type": "code",
      "execution_count": null,
      "metadata": {
        "id": "WIFkPTdZIqzr"
      },
      "outputs": [],
      "source": [
        "list.of.packages <- c(\"runjags\", \"mcp\", \"truncnorm\", \"coda\", \"dplyr\", \"ggplot2\", \"HDInterval\")\n",
        "new.packages <- list.of.packages[!(list.of.packages %in% installed.packages()[,\"Package\"])]\n",
        "if(length(new.packages)) install.packages(new.packages, dependencies = TRUE)"
      ]
    },
    {
      "cell_type": "code",
      "execution_count": null,
      "metadata": {
        "id": "H6rMWAArJU_Y"
      },
      "outputs": [],
      "source": [
        "rm(list = ls())\n"
      ]
    },
    {
      "cell_type": "code",
      "execution_count": null,
      "metadata": {
        "id": "wp3G0AjbPu6G"
      },
      "outputs": [],
      "source": [
        "library(\"mcp\")\n",
        "library(\"runjags\")\n",
        "library(\"dplyr\")\n",
        "library(\"HDInterval\")  # For HDI calculation\n",
        "library(\"coda\")\n",
        "\n",
        "set.seed(1952)\n"
      ]
    },
    {
      "cell_type": "markdown",
      "metadata": {
        "id": "i94He24g7xDu"
      },
      "source": [
        "# Simulating and tidying the data"
      ]
    },
    {
      "cell_type": "code",
      "execution_count": null,
      "metadata": {
        "id": "u4VnAbi8UEPp"
      },
      "outputs": [],
      "source": [
        "# mcp model\n",
        "model = list(\n",
        "  y ~ 1,\n",
        "  1 ~ 0 + x\n",
        ")\n",
        "\n",
        "# Function to simulate dataset\n",
        "simulate_dataset <- function() {\n",
        "  # Generate random change point between 1948 and 1956\n",
        "  cp <- rnorm(1, mean = 1952, sd = 1)\n",
        "  cp <- pmax(pmin(cp, 1956), 1948)  # Ensure change point is within bounds\n",
        "\n",
        "  # Generate random number of data points between 15 and 25\n",
        "  n <- sample(15:25, 1)\n",
        "  empty = mcp(model, sample = FALSE)\n",
        "  # Simulate dataset\n",
        "  df_sim <- data.frame(\n",
        "    x = runif(n, 1930, 1970),\n",
        "    ageerror = abs(rnorm(n, mean = 0, sd = 1))\n",
        "  )\n",
        "  df_sim$y <- empty$simulate(df_sim$x,\n",
        "                             # Population-level:\n",
        "                             int_1 =  0, x_2 = 0.25, cp_1 = cp, sigma = 0.25)\n",
        "\n",
        "  # Add proxy error\n",
        "  df_sim$proxyerror <- abs(rnorm(n, mean = 0, sd = 0.1))\n",
        "\n",
        "  return(df_sim)\n",
        "}\n",
        "\n",
        "# Simulate 5 datasets\n",
        "datasets <- replicate(5, simulate_dataset(), simplify = FALSE)\n",
        "\n",
        "# Sort each dataset in the list by 'x' column\n",
        "datasets_sorted <- lapply(datasets, function(df) {\n",
        "  df[order(df$x), ]\n",
        "})\n",
        "\n",
        "# Add id column to each dataset\n",
        "datasets_with_id <- Map(cbind, datasets_sorted, id = seq_along(datasets_sorted))\n",
        "\n",
        "# Combine all datasets into a single list\n",
        "combined_dataset <- do.call(rbind, datasets_with_id)\n",
        "\n",
        "# Function to create id_name column\n",
        "create_id_name <- function(id) {\n",
        "  paste0(\"simulated_proxy_\", id)\n",
        "}\n",
        "\n",
        "# Add id_name column\n",
        "combined_dataset$id_name <- sapply(combined_dataset$id, create_id_name)\n",
        "\n",
        "filtered_datatouse_selected_for_jags <- combined_dataset %>%\n",
        "  select(x, ageerror, y, proxyerror, id) %>%\n",
        "  rename(age = x, id = id, y = y, proxyerror = proxyerror, ageerror = ageerror) %>%\n",
        "  mutate(proxyerror = ifelse(proxyerror == 0, proxyerror + 1e-10, proxyerror)) %>%\n",
        "  mutate(ageerror = ifelse(ageerror == 0, ageerror + 1e-10, ageerror))\n",
        "\n",
        "dataList_forjags <- as.list(filtered_datatouse_selected_for_jags)\n",
        "dataList_forjags$minx <- min(filtered_datatouse_selected_for_jags$age)\n",
        "dataList_forjags$maxx <- max(filtered_datatouse_selected_for_jags$age)"
      ]
    },
    {
      "cell_type": "markdown",
      "source": [
        "# The jags model"
      ],
      "metadata": {
        "id": "vDT79yfBzdKD"
      }
    },
    {
      "cell_type": "code",
      "source": [
        "filtered_datatouse_selected_for_jags <- combined_dataset %>%\n",
        "  select(x, ageerror, y, proxyerror, id) %>%\n",
        "  rename(age = x, id = id, y = y, proxyerror = proxyerror, ageerror = ageerror) %>%\n",
        "  mutate(proxyerror = ifelse(proxyerror == 0, proxyerror + 1e-10, proxyerror)) %>%\n",
        "  mutate(ageerror = ifelse(ageerror == 0, ageerror + 1e-10, ageerror))\n",
        "\n",
        "dataList_forjags <- as.list(filtered_datatouse_selected_for_jags)\n",
        "dataList_forjags$minx <- min(filtered_datatouse_selected_for_jags$age)\n",
        "dataList_forjags$maxx <- max(filtered_datatouse_selected_for_jags$age)\n",
        "\n",
        "modelString <- \"\n",
        "data {\n",
        "  for (tr_ in 1:length(age)) {\n",
        "  age_tr[tr_] <- age[tr_] / 1000\n",
        "  ageerror_tr[tr_] <- ageerror[tr_] / 1000\n",
        "  }\n",
        "  MINX <- minx / 1000\n",
        "  MAXX <- maxx / 1000\n",
        "}\n",
        "model {\n",
        "  # Priors for population-level effects\n",
        "  cp_1_tr ~ dt(mu_cp_1, 1/sigma_cp_1^2, nu_cp)T(MINX, MAXX)\n",
        "  sigma_cp_1 ~ dt(0, 0.05^(-2), 1)T(0, )\n",
        "\n",
        "  int_1 ~ dt(0, 5^(-2), 3)\n",
        "  x_2_tr ~ dt(0, 100^(-2), 3)\n",
        "  sigma_1 ~  dt(0, 5^(-2), 1)T(0, )\n",
        "  mu_cp_1 ~ dunif(MINX,MAXX) #dnorm(1.950, 1^(-2))T(MINX, MAXX)\n",
        "\n",
        "  nu_cp ~ dexp(1/30)\n",
        "\n",
        "  # Priors for varying effects\n",
        "  for (id_ in 1:max(id)) {\n",
        "    cp_1_id_tr_uncentered[id_] ~ dt(0, 1/cp_1_sigma_tr^2,5) T(MINX - cp_1_tr, MAXX - cp_1_tr)\n",
        "  }\n",
        "  cp_1_id_tr <- cp_1_id_tr_uncentered - mean(cp_1_id_tr_uncentered)  # vectorized zero-centering\n",
        "  cp_1_sigma_tr ~ dt(0, 0.05^(-2), 1)T(0, )\n",
        "\n",
        "  # Model and likelihood\n",
        "  for (i_ in 1:length(age_tr)) {\n",
        "    X_1_[i_] <- min(trueage[i_], (cp_1_tr + cp_1_id_tr[id[i_]]))\n",
        "    X_2_[i_] <- min(trueage[i_], MAXX) - (cp_1_tr + cp_1_id_tr[id[i_]])\n",
        "    trueage[i_] ~ dunif(MINX,MAXX) #dnorm(0, 1^(-2))\n",
        "    age_tr[i_] ~  dnorm(trueage[i_], 1 / ageerror_tr[i_]^2)\n",
        "\n",
        "    # Fitted value\n",
        "    y_[i_] =\n",
        "\n",
        "      # Segment 1: y ~ 1 + x\n",
        "      (trueage[i_] >= MINX) * int_1 +\n",
        "\n",
        "      # Segment 2: y ~ 1 + (1 | id) ~ 0 + x\n",
        "      (trueage[i_]>= (cp_1_tr + cp_1_id_tr[id[i_]])) * x_2_tr * X_2_[i_]\n",
        "\n",
        "    # Fitted standard deviation\n",
        "    tau_y_[i_] = (proxyerror[i_]^2 + (sigma_1)^2)^(-1)\n",
        "\n",
        "    # Likelihood\n",
        "    y[i_] ~  dnorm(y_[i_], tau_y_[i_]) # dnorm(y_[i_], tau_y_[i_])  # dt(y_[i_], tau_y_[i_], nu_y) #\n",
        "  }\n",
        "  # Transform to original scale:\n",
        "  cp_1 <- cp_1_tr * 1000\n",
        "  cp_1_id <- cp_1_id_tr * 1000\n",
        "  cp_1_sd <- cp_1_sigma_tr * 1000\n",
        "  x_2 <- x_2_tr / 1000\n",
        "}\n",
        "  \"\n",
        "\n",
        "sampleNO <- 20000\n",
        "thinstepsNO <- 2\n",
        "adaptNO <- 20000\n",
        "burninNO <- 20000\n",
        "nChains <- 3\n",
        "\n",
        "writeLines(modelString, con=\"TEMPmodel.txt\")\n",
        "parameters <- c(\"cp_1\", \"cp_1_id\", \"cp_1_sd\", \"int_1\", \"sigma_1\", \"x_2\", \"cp_1_sd\")\n",
        "initsList <- list(cp_1_tr = 1.950\n",
        ")\n",
        "\n",
        "# run the model\n",
        "runJagsOut_multiple_sim<- run.jags(method = \"parallel\",\n",
        "                           model = \"TEMPmodel.txt\",\n",
        "                           monitor = parameters,\n",
        "                           data = dataList_forjags,\n",
        "                           inits = initsList,\n",
        "                           n.chains = nChains,\n",
        "                           adapt = adaptNO,\n",
        "                           burnin = burninNO,\n",
        "                           sample = sampleNO,\n",
        "                           thin = thinstepsNO,\n",
        "                           summarise = FALSE,\n",
        "                           plots = FALSE,\n",
        "                           modules = 'glm')"
      ],
      "metadata": {
        "id": "MonTOot4zl5x"
      },
      "execution_count": null,
      "outputs": []
    },
    {
      "cell_type": "code",
      "source": [
        "      codaSamples <- as.mcmc.list(runJagsOut_multiple_sim)\n",
        "      save(runJagsOut_multiple_sim, file=\"anthropocene_cp_sim_MCMC.Rdata\" )\n",
        "      summary2023colabrun_multiple_sim <- summary(runJagsOut_multiple_sim)\n",
        "      write.csv(summary2023colabrun_multiple_sim, \"/content/summary_sim_runs_sim.csv\")"
      ],
      "metadata": {
        "id": "QBQhuJcHz6NS"
      },
      "execution_count": null,
      "outputs": []
    }
  ],
  "metadata": {
    "colab": {
      "provenance": [],
      "authorship_tag": "ABX9TyOFfwVylEsxs/Bg8lbD6LT3",
      "include_colab_link": true
    },
    "kernelspec": {
      "display_name": "R",
      "name": "ir"
    }
  },
  "nbformat": 4,
  "nbformat_minor": 0
}